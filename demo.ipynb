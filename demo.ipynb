e = eval(input())
pi = 1
t = []
a = []
for i in range(1, 200):
    pi = pi * (2 * i / (2 * i - 1)) * (2 * i / (2 * i + 1))
    a.append(2 * pi)
    t.append(abs(2 * pi - e))
print('%.9f' % a[t.index(min(t))], t.index(min(t)) + 1)
